{
 "cells": [
  {
   "cell_type": "code",
   "execution_count": 161,
   "metadata": {},
   "outputs": [],
   "source": [
    "#------------------------------------------------------\n",
    "#          CALIBRATION OF THE LOG-LINEAR CCM \n",
    "#------------------------------------------------------\n",
    "#\n",
    "# Written by:\n",
    "# Dr. Neeraj Saxena\n",
    "# Senior Professional Leader\n",
    "# ARRB\n",
    "# Email: Neeraj.Saxena@arrb.com.au\n",
    "#\n",
    "# Summary:\n",
    "# This Python 3 code uses Nonlinear Regression Technique to calibrate the Log-linear CCM on a given dataset\n",
    "#\n",
    "#\n",
    "# NOTE:\n",
    "# 1. One needs to install Anaconda + Python 3 before running this script. Installation file is available at: https://www.anaconda.com/products/individual\n",
    "# 2. Watch a video on how to run a script in Jupyter Notebook\n",
    "# 3. The dataset should be in the following format:\n",
    "#    a. Must comprise only two columns with names: 1) MidDistance, and 2) Correlation \n",
    "#    b. Must be saved as a *.csv file\n",
    "# 4. The Column MidDistance must be in metres\n",
    "#\n",
    "#"
   ]
  },
  {
   "cell_type": "code",
   "execution_count": 162,
   "metadata": {},
   "outputs": [],
   "source": [
    "# Importing default libraries - do not change this section\n",
    "import numpy as np\n",
    "import numpy, scipy, matplotlib\n",
    "import matplotlib.pyplot as plt\n",
    "import pandas as pd\n",
    "import os\n",
    "import math\n",
    "from scipy.optimize import curve_fit\n",
    "from scipy.optimize import differential_evolution\n",
    "import scipy.odr\n",
    "import scipy.stats\n",
    "import warnings\n"
   ]
  },
  {
   "cell_type": "code",
   "execution_count": 163,
   "metadata": {},
   "outputs": [
    {
     "data": {
      "text/plain": [
       "'C:\\\\Users\\\\neeraj.saxena\\\\Desktop\\\\Python\\\\Programming\\\\Nonlinear Regression\\\\CCM'"
      ]
     },
     "execution_count": 163,
     "metadata": {},
     "output_type": "execute_result"
    }
   ],
   "source": [
    "# DO NOT CHANGE THIS BLOCK\n",
    "\n",
    "# Check the default location of your Jupyter Notebook\n",
    "\n",
    "# IMPORTANT: First only run the Previous and this block only\n",
    "\n",
    "os.getcwd()"
   ]
  },
  {
   "cell_type": "code",
   "execution_count": 164,
   "metadata": {},
   "outputs": [],
   "source": [
    "# IMPORTANT: Move the Input csv file into the folder which is shown in the path from above block\n",
    "\n",
    "# E.g. Supoose the previous block gave you the following output:\n",
    "# 'C:\\\\Users\\\\z5005993\\\\Desktop\\\\Neeraj Python'\n",
    "\n",
    "# This means the Python script is located insude the folder Neeraj Python, and the csv file must be moved inside this folder.\n",
    "\n",
    "# Please MOVE the csv file to this location first before running the next block"
   ]
  },
  {
   "cell_type": "code",
   "execution_count": 165,
   "metadata": {},
   "outputs": [
    {
     "data": {
      "text/html": [
       "<div>\n",
       "<style scoped>\n",
       "    .dataframe tbody tr th:only-of-type {\n",
       "        vertical-align: middle;\n",
       "    }\n",
       "\n",
       "    .dataframe tbody tr th {\n",
       "        vertical-align: top;\n",
       "    }\n",
       "\n",
       "    .dataframe thead th {\n",
       "        text-align: right;\n",
       "    }\n",
       "</style>\n",
       "<table border=\"1\" class=\"dataframe\">\n",
       "  <thead>\n",
       "    <tr style=\"text-align: right;\">\n",
       "      <th></th>\n",
       "      <th>MidDistance</th>\n",
       "      <th>Correlation</th>\n",
       "    </tr>\n",
       "  </thead>\n",
       "  <tbody>\n",
       "    <tr>\n",
       "      <td>0</td>\n",
       "      <td>155</td>\n",
       "      <td>0.874642</td>\n",
       "    </tr>\n",
       "    <tr>\n",
       "      <td>1</td>\n",
       "      <td>530</td>\n",
       "      <td>0.811988</td>\n",
       "    </tr>\n",
       "    <tr>\n",
       "      <td>2</td>\n",
       "      <td>790</td>\n",
       "      <td>0.694062</td>\n",
       "    </tr>\n",
       "    <tr>\n",
       "      <td>3</td>\n",
       "      <td>1165</td>\n",
       "      <td>0.659362</td>\n",
       "    </tr>\n",
       "    <tr>\n",
       "      <td>4</td>\n",
       "      <td>1460</td>\n",
       "      <td>0.565419</td>\n",
       "    </tr>\n",
       "  </tbody>\n",
       "</table>\n",
       "</div>"
      ],
      "text/plain": [
       "   MidDistance  Correlation\n",
       "0          155     0.874642\n",
       "1          530     0.811988\n",
       "2          790     0.694062\n",
       "3         1165     0.659362\n",
       "4         1460     0.565419"
      ]
     },
     "execution_count": 165,
     "metadata": {},
     "output_type": "execute_result"
    }
   ],
   "source": [
    "# RUN this block only if you have moved your csv file to the right folder.\n",
    "\n",
    "# Import the csv file\n",
    "data = pd.read_csv('DataFile.csv', delimiter=',')  # Change the name of the Input csv File\n",
    "data.head()  # This command displays some of the imported data for quick verification\n",
    "\n",
    "# NOTE: The column names in your csv must be CongestionIndex and CoV\n"
   ]
  },
  {
   "cell_type": "code",
   "execution_count": 166,
   "metadata": {},
   "outputs": [
    {
     "name": "stdout",
     "output_type": "stream",
     "text": [
      "No. of rows Imported: 2234\n",
      "No. of rows afer removing Empty rows: 2234\n"
     ]
    }
   ],
   "source": [
    "# DO NOT CHANGE THIS BLOCK\n",
    "\n",
    "# Get the number of rows imported\n",
    "count_row0 = data.shape[0]\n",
    "print(\"No. of rows Imported: \" + str(count_row0))\n",
    "\n",
    "# Delete rows where one of the element is missing\n",
    "data.dropna()\n",
    "\n",
    "# Get the number of rows\n",
    "count_row1 = data.shape[0]\n",
    "print(\"No. of rows afer removing Empty rows: \" + str(count_row1))\n",
    "\n",
    "# GOOD WORK! Your Data is now Imported\n"
   ]
  },
  {
   "cell_type": "code",
   "execution_count": 167,
   "metadata": {},
   "outputs": [],
   "source": [
    "# DO NOT CHANGE THIS BLOCK\n",
    "\n",
    "# Preparing the Dependent and Independent Variables\n",
    "\n",
    "# Segregate X and Y into numpy arrays\n",
    "x = data['MidDistance'].to_numpy()\n",
    "y = data['Correlation'].to_numpy()\n",
    "\n",
    "# Converting MidDistance into Kms\n",
    "x = x/1000\n"
   ]
  },
  {
   "cell_type": "code",
   "execution_count": 168,
   "metadata": {},
   "outputs": [
    {
     "data": {
      "text/plain": [
       "[<matplotlib.lines.Line2D at 0x23c089dfd48>]"
      ]
     },
     "execution_count": 168,
     "metadata": {},
     "output_type": "execute_result"
    },
    {
     "data": {
      "image/png": "[encoded data removed]",
      "text/plain": [
       "<Figure size 432x288 with 1 Axes>"
      ]
     },
     "metadata": {},
     "output_type": "display_data"
    }
   ],
   "source": [
    "# DO NOT CHANGE THIS BLOCK\n",
    "\n",
    "# Develop a plot between Independent and Dependent variables\n",
    "import matplotlib.pyplot as plt\n",
    "plt.style.use('seaborn-whitegrid')\n",
    "import numpy as np\n",
    "\n",
    "plt.plot(x,y)\n"
   ]
  },
  {
   "cell_type": "code",
   "execution_count": 169,
   "metadata": {},
   "outputs": [
    {
     "name": "stdout",
     "output_type": "stream",
     "text": [
      "-----------------------------------------------------------------\n",
      "The results presented are in the following order: a - b\n",
      "-----------------------------------------------------------------\n",
      "\n",
      "parameter: -0.12076635076476308\n",
      "   conf interval: -0.12763461058485565 -0.11389809094467052\n",
      "   tstat: -34.48124105264554\n",
      "   pstat: 0.0\n",
      "\n",
      "parameter: 0.41818450470772134\n",
      "   conf interval: 0.4016998025149126 0.43466920690053007\n",
      "   tstat: 49.747411938868936\n",
      "   pstat: 0.0\n",
      "\n"
     ]
    }
   ],
   "source": [
    "# DO NOT CHANGE THIS BLOCK\n",
    "\n",
    "# This is where the Model Calibration starts.\n",
    "# A Nonlinear Regression Method is utilised.\n",
    "\n",
    "# Define the formulation of the Log-linear CCM     --> b + (a * np.log(x))\n",
    "def f(x, a, b):\n",
    "    c = np.log(x)\n",
    "    d = a * c\n",
    "    e = b + d\n",
    "    return e\n",
    "\n",
    "\n",
    "def f_wrapper_for_odr(beta, x): # parameter order for odr\n",
    "    return f(x, *beta)\n",
    "\n",
    "defpar = [0.1, 0.1]\n",
    "parameters, cov= curve_fit(f, x, y, p0=defpar)\n",
    "\n",
    "model = scipy.odr.odrpack.Model(f_wrapper_for_odr)\n",
    "data0 = scipy.odr.odrpack.Data(x,y)\n",
    "myodr = scipy.odr.odrpack.ODR(data0, model, beta0=parameters,  maxit=100)\n",
    "myodr.set_job(fit_type=2)\n",
    "parameterStatistics = myodr.run()\n",
    "df_e = len(x) - len(parameters) # degrees of freedom, error\n",
    "cov_beta = parameterStatistics.cov_beta # parameter covariance matrix from ODR\n",
    "sd_beta = parameterStatistics.sd_beta * parameterStatistics.sd_beta\n",
    "ci = []\n",
    "t_df = scipy.stats.t.ppf(0.975, df_e)\n",
    "ci = []\n",
    "for i in range(len(parameters)):\n",
    "    ci.append([parameters[i] - t_df * parameterStatistics.sd_beta[i], parameters[i] + t_df * parameterStatistics.sd_beta[i]])\n",
    "\n",
    "tstat_beta = parameters / parameterStatistics.sd_beta # coeff t-statistics\n",
    "pstat_beta = (1.0 - scipy.stats.t.cdf(np.abs(tstat_beta), df_e)) * 2.0    # coef. p-values\n",
    "\n",
    "print(\"-----------------------------------------------------------------\")\n",
    "print(\"The results presented are in the following order: a - b\")\n",
    "print(\"-----------------------------------------------------------------\\n\")\n",
    "\n",
    "for i in range(len(parameters)):\n",
    "    print('parameter:', parameters[i])\n",
    "    print('   conf interval:', ci[i][0], ci[i][1])\n",
    "    print('   tstat:', tstat_beta[i])\n",
    "    print('   pstat:', pstat_beta[i])\n",
    "    print()\n",
    "    "
   ]
  },
  {
   "cell_type": "code",
   "execution_count": 170,
   "metadata": {},
   "outputs": [
    {
     "name": "stdout",
     "output_type": "stream",
     "text": [
      "-----------------------------------------------------------------\n",
      "GOODNESS-OF-FIT STATISTICS\n",
      "-----------------------------------------------------------------\n",
      "\n",
      "Residual: 63.78116970788689\n",
      "R-squared: 0.3475507995649898\n",
      "\n",
      "~~ MODEL CALIBRATION SUCCESSFUL ~~\n"
     ]
    }
   ],
   "source": [
    "# DO NOT CHANGE THIS BLOCK\n",
    "\n",
    "# Evaluating the overall goodness-of-fit of the ATAP Model\n",
    "\n",
    "print(\"-----------------------------------------------------------------\")\n",
    "print(\"GOODNESS-OF-FIT STATISTICS\")\n",
    "print(\"-----------------------------------------------------------------\\n\")\n",
    "\n",
    "modelPredictions = f(x, *parameters) \n",
    "\n",
    "absError = modelPredictions - y\n",
    "\n",
    "SQabsError = (modelPredictions - y)**2\n",
    "TotError = (y - np.average(y))**2\n",
    "Rsquared = 1.0 - np.sum(SQabsError) / np.sum(TotError)\n",
    "print('Residual:', np.sum(SQabsError))\n",
    "print('R-squared:', Rsquared)\n",
    "\n",
    "print(\"\\n~~ MODEL CALIBRATION SUCCESSFUL ~~\")\n"
   ]
  },
  {
   "cell_type": "code",
   "execution_count": null,
   "metadata": {},
   "outputs": [],
   "source": []
  }
 ],
 "metadata": {
  "kernelspec": {
   "display_name": "Python 3",
   "language": "python",
   "name": "python3"
  },
  "language_info": {
   "codemirror_mode": {
    "name": "ipython",
    "version": 3
   },
   "file_extension": ".py",
   "mimetype": "text/x-python",
   "name": "python",
   "nbconvert_exporter": "python",
   "pygments_lexer": "ipython3",
   "version": "3.7.4"
  }
 },
 "nbformat": 4,
 "nbformat_minor": 2
}
